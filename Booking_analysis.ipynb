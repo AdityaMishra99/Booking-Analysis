{
 "cells": [
  {
   "cell_type": "markdown",
   "id": "e17b1c78-1986-4ab3-9ff1-221454205477",
   "metadata": {},
   "source": [
    "## Let's import the important Libraries"
   ]
  },
  {
   "cell_type": "code",
   "execution_count": 1,
   "id": "df5401c1-ed94-4ebd-9be2-a74601aa7f8d",
   "metadata": {},
   "outputs": [],
   "source": [
    "# Importing necessary libraries\n",
    "\n",
    "import pandas as pd  # Pandas for data manipulation and analysis\n",
    "import numpy as np  # NumPy for numerical computations and handling arrays\n",
    "import seaborn as sns  # Seaborn for advanced data visualization\n",
    "import matplotlib.pyplot as plt  # Matplotlib for basic plotting and visualization\n",
    "from datetime import datetime  # Datetime module to handle date and time data"
   ]
  },
  {
   "cell_type": "markdown",
   "id": "9f9816a8-d49d-4380-80c2-1656e13ab36f",
   "metadata": {},
   "source": [
    "## Load Dataset"
   ]
  },
  {
   "cell_type": "code",
   "execution_count": 2,
   "id": "02b76e99-b2ba-4088-a191-a79693ffde63",
   "metadata": {},
   "outputs": [],
   "source": [
    "# Reading the Excel file into a Pandas DataFrame\n",
    "df = pd.read_excel(\"C:/Users/DELL/Downloads/DataAnalyst_Assesment_Dataset.xlsx\")"
   ]
  },
  {
   "cell_type": "markdown",
   "id": "b6a5e6f9-250d-4c32-ad90-11e96befba27",
   "metadata": {},
   "source": [
    "## Display Basic Info"
   ]
  },
  {
   "cell_type": "code",
   "execution_count": 3,
   "id": "f956a8df-8453-4c20-8b11-1515d229a615",
   "metadata": {},
   "outputs": [
    {
     "name": "stdout",
     "output_type": "stream",
     "text": [
      "<class 'pandas.core.frame.DataFrame'>\n",
      "RangeIndex: 1000 entries, 0 to 999\n",
      "Data columns (total 18 columns):\n",
      " #   Column             Non-Null Count  Dtype         \n",
      "---  ------             --------------  -----         \n",
      " 0   Booking ID         1000 non-null   object        \n",
      " 1   Customer ID        1000 non-null   object        \n",
      " 2   Customer Name      1000 non-null   object        \n",
      " 3   Booking Type       1000 non-null   object        \n",
      " 4   Booking Date       1000 non-null   datetime64[ns]\n",
      " 5   Status             1000 non-null   object        \n",
      " 6   Class Type         328 non-null    object        \n",
      " 7   Instructor         270 non-null    object        \n",
      " 8   Time Slot          795 non-null    object        \n",
      " 9   Duration (mins)    795 non-null    float64       \n",
      " 10  Price              1000 non-null   float64       \n",
      " 11  Facility           672 non-null    object        \n",
      " 12  Theme              273 non-null    object        \n",
      " 13  Subscription Type  0 non-null      float64       \n",
      " 14  Service Name       1000 non-null   object        \n",
      " 15  Service Type       1000 non-null   object        \n",
      " 16  Customer Email     906 non-null    object        \n",
      " 17  Customer Phone     895 non-null    object        \n",
      "dtypes: datetime64[ns](1), float64(3), object(14)\n",
      "memory usage: 140.8+ KB\n",
      "None\n",
      "                             Booking ID                           Customer ID  \\\n",
      "0  279d92c6-ce26-47c0-8915-e45b77fe20e2  00901ce3-3d86-4c97-bca2-40ccac2fb99f   \n",
      "1  415bfcbe-1a2e-4d4b-809a-4c5b606653b1  b82db986-bd52-4b07-bdd8-aa8cf2016241   \n",
      "2  2100024b-46fc-47b5-ac1c-047d007a4723  6bbb6e83-9577-4f64-80b0-f073132d18f3   \n",
      "3  74936def-088f-4d34-bad1-dfa76f78b704  f16f5beb-6a7d-4493-a19e-a30dbbd206e9   \n",
      "4  6272b4e7-a508-4ed7-bae0-21f7293287a8  eb297435-93d1-4e65-8dd4-6450922305cb   \n",
      "\n",
      "  Customer Name    Booking Type Booking Date     Status Class Type Instructor  \\\n",
      "0    Customer 1        Facility   2025-05-30    Pending        NaN        NaN   \n",
      "1    Customer 2  Birthday Party   2025-05-29    Pending        NaN        NaN   \n",
      "2    Customer 3  Birthday Party   2025-05-09  Confirmed        NaN        NaN   \n",
      "3    Customer 4  Birthday Party   2025-06-07    Pending        NaN        NaN   \n",
      "4    Customer 5           Class   2025-04-13    Pending        Art        NaN   \n",
      "\n",
      "  Time Slot  Duration (mins)   Price    Facility      Theme  \\\n",
      "0  10:00:00             90.0   42.74  Party Room        NaN   \n",
      "1       NaN              NaN  182.06  Party Room  Superhero   \n",
      "2  11:00:00            120.0  207.50   Play Area        NaN   \n",
      "3  12:00:00             90.0  203.20   Play Area        NaN   \n",
      "4  15:00:00            120.0  161.14         NaN        NaN   \n",
      "\n",
      "   Subscription Type Service Name    Service Type         Customer Email  \\\n",
      "0                NaN   Party Room        Facility  customer1@example.com   \n",
      "1                NaN   Party Room  Birthday Party  customer2@example.com   \n",
      "2                NaN    Play Area        Facility  customer3@example.com   \n",
      "3                NaN    Play Area  Birthday Party  customer4@example.com   \n",
      "4                NaN          Art           Class  customer5@example.com   \n",
      "\n",
      "  Customer Phone  \n",
      "0   001-730-9034  \n",
      "1   001-537-5668  \n",
      "2   001-880-7769  \n",
      "3   001-491-3107  \n",
      "4   001-718-3794  \n"
     ]
    }
   ],
   "source": [
    "# Displaying information about the DataFrame, including column names, non-null counts, and data types\n",
    "print(df.info())\n",
    "\n",
    "# Displaying the first five rows of the DataFrame to get a quick overview of the data\n",
    "print(df.head())"
   ]
  },
  {
   "cell_type": "markdown",
   "id": "9e9e88c9-9658-4617-806b-f7a3a32cb04d",
   "metadata": {},
   "source": [
    "## Check for missing values"
   ]
  },
  {
   "cell_type": "code",
   "execution_count": 4,
   "id": "1a6000ff-49fb-4cab-b1d3-070338743f54",
   "metadata": {},
   "outputs": [
    {
     "name": "stdout",
     "output_type": "stream",
     "text": [
      "\n",
      "Missing Values:\n",
      " Booking ID              0\n",
      "Customer ID             0\n",
      "Customer Name           0\n",
      "Booking Type            0\n",
      "Booking Date            0\n",
      "Status                  0\n",
      "Class Type            672\n",
      "Instructor            730\n",
      "Time Slot             205\n",
      "Duration (mins)       205\n",
      "Price                   0\n",
      "Facility              328\n",
      "Theme                 727\n",
      "Subscription Type    1000\n",
      "Service Name            0\n",
      "Service Type            0\n",
      "Customer Email         94\n",
      "Customer Phone        105\n",
      "dtype: int64\n"
     ]
    }
   ],
   "source": [
    "# Checking for missing values in each column of the DataFrame  \n",
    "# The isnull() function identifies missing values, and sum() counts them for each column  \n",
    "print(\"\\nMissing Values:\\n\", df.isnull().sum())"
   ]
  },
  {
   "cell_type": "markdown",
   "id": "094cf843-218c-41a7-baf1-0dc1b261cb1c",
   "metadata": {},
   "source": [
    "## Handle Missing Data\n",
    "Filling missing numerical values with median"
   ]
  },
  {
   "cell_type": "code",
   "execution_count": 5,
   "id": "946ccce2-d233-4c82-9362-0cfd9ff8e829",
   "metadata": {},
   "outputs": [],
   "source": [
    "# Filling missing values in specific columns with the median value of that column  \n",
    "# This helps maintain data integrity while avoiding extreme values affecting the dataset  \n",
    "\n",
    "df.fillna({\n",
    "    \"Price\": df[\"Price\"].median(),  # Replacing missing values in the \"Price\" column with its median\n",
    "    \"Duration (mins)\": df[\"Duration (mins)\"].median()  # Replacing missing values in \"Duration (mins)\" with its median\n",
    "}, inplace=True)  # Modifies the DataFrame in place without creating a new copy"
   ]
  },
  {
   "cell_type": "markdown",
   "id": "fde274ea-ab62-4ad8-8fd5-a7e7ab466df0",
   "metadata": {},
   "source": [
    "Fill categorical missing values with mode"
   ]
  },
  {
   "cell_type": "code",
   "execution_count": 6,
   "id": "d6a99652-7ac4-4ad0-973c-3b7e02ee877c",
   "metadata": {},
   "outputs": [],
   "source": [
    "# Filling missing values in categorical columns using mode (most frequent value)  \n",
    "# and assigning \"Unknown\" where appropriate  \n",
    "\n",
    "df.fillna({\n",
    "    \"Status\": df[\"Status\"].mode()[0],  # Replacing missing values in \"Status\" with the most frequent value (mode)\n",
    "    \"Facility\": df[\"Facility\"].mode()[0],  # Replacing missing values in \"Facility\" with its most frequent value\n",
    "    \"Instructor\": \"Unknown\"  # Assigning \"Unknown\" to missing values in the \"Instructor\" column\n",
    "}, inplace=True)  # Modifies the DataFrame directly"
   ]
  },
  {
   "cell_type": "markdown",
   "id": "85263018-7082-4504-922f-02b4862ac16f",
   "metadata": {},
   "source": [
    "Standardize date format"
   ]
  },
  {
   "cell_type": "code",
   "execution_count": 7,
   "id": "1a766dc1-2994-4cc6-9d50-c267bd775fb3",
   "metadata": {},
   "outputs": [],
   "source": [
    "# Converting the \"Booking Date\" column to a datetime format  \n",
    "# The 'errors=\"coerce\"' parameter ensures that invalid dates are converted to NaT (Not a Time) instead of causing errors  \n",
    "\n",
    "df[\"Booking Date\"] = pd.to_datetime(df[\"Booking Date\"], errors='coerce')"
   ]
  },
  {
   "cell_type": "markdown",
   "id": "fe658b91-d6d1-45b1-aa6b-c39a8ed9d653",
   "metadata": {},
   "source": [
    "Normalize Text Columns (strip spaces, lowercase where applicable)"
   ]
  },
  {
   "cell_type": "code",
   "execution_count": 8,
   "id": "4cffdb5f-1e9a-405d-b547-1e38e09cb97c",
   "metadata": {},
   "outputs": [],
   "source": [
    "# Cleaning and standardizing categorical and text-based columns  \n",
    "\n",
    "# Stripping leading and trailing spaces, and converting the first letter of each word to uppercase in \"Booking Type\"\n",
    "df[\"Booking Type\"] = df[\"Booking Type\"].str.strip().str.title()  \n",
    "\n",
    "# Stripping spaces and converting all text to uppercase in \"Status\"\n",
    "df[\"Status\"] = df[\"Status\"].str.strip().str.upper()  \n",
    "\n",
    "# Converting all email addresses to lowercase for consistency  \n",
    "df[\"Customer Email\"] = df[\"Customer Email\"].str.lower()  \n",
    "\n",
    "# Converting phone numbers to string, removing any non-numeric characters (e.g., spaces, dashes, parentheses)  \n",
    "df[\"Customer Phone\"] = df[\"Customer Phone\"].astype(str).str.replace(\"[^0-9]\", \"\", regex=True)"
   ]
  },
  {
   "cell_type": "markdown",
   "id": "917e8b79-f372-489d-a438-6d8eb09198ce",
   "metadata": {},
   "source": [
    "## Remove duplicates"
   ]
  },
  {
   "cell_type": "code",
   "execution_count": 9,
   "id": "efd72193-6d83-4923-9c38-926f6530b690",
   "metadata": {},
   "outputs": [],
   "source": [
    "df.drop_duplicates(inplace=True)"
   ]
  },
  {
   "cell_type": "markdown",
   "id": "3fcc04d0-e003-4003-af88-510dbcfe7f9c",
   "metadata": {},
   "source": [
    "## Feature Engineering"
   ]
  },
  {
   "cell_type": "code",
   "execution_count": 9,
   "id": "5f5e6bd9-563b-4d74-a355-efababea5666",
   "metadata": {},
   "outputs": [
    {
     "data": {
      "text/html": [
       "<div>\n",
       "<style scoped>\n",
       "    .dataframe tbody tr th:only-of-type {\n",
       "        vertical-align: middle;\n",
       "    }\n",
       "\n",
       "    .dataframe tbody tr th {\n",
       "        vertical-align: top;\n",
       "    }\n",
       "\n",
       "    .dataframe thead th {\n",
       "        text-align: right;\n",
       "    }\n",
       "</style>\n",
       "<table border=\"1\" class=\"dataframe\">\n",
       "  <thead>\n",
       "    <tr style=\"text-align: right;\">\n",
       "      <th></th>\n",
       "      <th>Booking ID</th>\n",
       "      <th>Customer ID</th>\n",
       "      <th>Customer Name</th>\n",
       "      <th>Booking Type</th>\n",
       "      <th>Booking Date</th>\n",
       "      <th>Status</th>\n",
       "      <th>Class Type</th>\n",
       "      <th>Instructor</th>\n",
       "      <th>Time Slot</th>\n",
       "      <th>Duration (mins)</th>\n",
       "      <th>...</th>\n",
       "      <th>Facility</th>\n",
       "      <th>Theme</th>\n",
       "      <th>Subscription Type</th>\n",
       "      <th>Service Name</th>\n",
       "      <th>Service Type</th>\n",
       "      <th>Customer Email</th>\n",
       "      <th>Customer Phone</th>\n",
       "      <th>Booking Month</th>\n",
       "      <th>Peak Hours</th>\n",
       "      <th>Revenue per Booking</th>\n",
       "    </tr>\n",
       "  </thead>\n",
       "  <tbody>\n",
       "    <tr>\n",
       "      <th>0</th>\n",
       "      <td>279d92c6-ce26-47c0-8915-e45b77fe20e2</td>\n",
       "      <td>00901ce3-3d86-4c97-bca2-40ccac2fb99f</td>\n",
       "      <td>Customer 1</td>\n",
       "      <td>Facility</td>\n",
       "      <td>2025-05-30</td>\n",
       "      <td>PENDING</td>\n",
       "      <td>NaN</td>\n",
       "      <td>Unknown</td>\n",
       "      <td>NaT</td>\n",
       "      <td>90.0</td>\n",
       "      <td>...</td>\n",
       "      <td>Party Room</td>\n",
       "      <td>NaN</td>\n",
       "      <td>NaN</td>\n",
       "      <td>Party Room</td>\n",
       "      <td>Facility</td>\n",
       "      <td>customer1@example.com</td>\n",
       "      <td>0017309034</td>\n",
       "      <td>5</td>\n",
       "      <td>Unknown</td>\n",
       "      <td>42.74</td>\n",
       "    </tr>\n",
       "    <tr>\n",
       "      <th>1</th>\n",
       "      <td>415bfcbe-1a2e-4d4b-809a-4c5b606653b1</td>\n",
       "      <td>b82db986-bd52-4b07-bdd8-aa8cf2016241</td>\n",
       "      <td>Customer 2</td>\n",
       "      <td>Birthday Party</td>\n",
       "      <td>2025-05-29</td>\n",
       "      <td>PENDING</td>\n",
       "      <td>NaN</td>\n",
       "      <td>Unknown</td>\n",
       "      <td>NaT</td>\n",
       "      <td>90.0</td>\n",
       "      <td>...</td>\n",
       "      <td>Party Room</td>\n",
       "      <td>Superhero</td>\n",
       "      <td>NaN</td>\n",
       "      <td>Party Room</td>\n",
       "      <td>Birthday Party</td>\n",
       "      <td>customer2@example.com</td>\n",
       "      <td>0015375668</td>\n",
       "      <td>5</td>\n",
       "      <td>Unknown</td>\n",
       "      <td>182.06</td>\n",
       "    </tr>\n",
       "    <tr>\n",
       "      <th>2</th>\n",
       "      <td>2100024b-46fc-47b5-ac1c-047d007a4723</td>\n",
       "      <td>6bbb6e83-9577-4f64-80b0-f073132d18f3</td>\n",
       "      <td>Customer 3</td>\n",
       "      <td>Birthday Party</td>\n",
       "      <td>2025-05-09</td>\n",
       "      <td>CONFIRMED</td>\n",
       "      <td>NaN</td>\n",
       "      <td>Unknown</td>\n",
       "      <td>NaT</td>\n",
       "      <td>120.0</td>\n",
       "      <td>...</td>\n",
       "      <td>Play Area</td>\n",
       "      <td>NaN</td>\n",
       "      <td>NaN</td>\n",
       "      <td>Play Area</td>\n",
       "      <td>Facility</td>\n",
       "      <td>customer3@example.com</td>\n",
       "      <td>0018807769</td>\n",
       "      <td>5</td>\n",
       "      <td>Unknown</td>\n",
       "      <td>207.50</td>\n",
       "    </tr>\n",
       "    <tr>\n",
       "      <th>3</th>\n",
       "      <td>74936def-088f-4d34-bad1-dfa76f78b704</td>\n",
       "      <td>f16f5beb-6a7d-4493-a19e-a30dbbd206e9</td>\n",
       "      <td>Customer 4</td>\n",
       "      <td>Birthday Party</td>\n",
       "      <td>2025-06-07</td>\n",
       "      <td>PENDING</td>\n",
       "      <td>NaN</td>\n",
       "      <td>Unknown</td>\n",
       "      <td>NaT</td>\n",
       "      <td>90.0</td>\n",
       "      <td>...</td>\n",
       "      <td>Play Area</td>\n",
       "      <td>NaN</td>\n",
       "      <td>NaN</td>\n",
       "      <td>Play Area</td>\n",
       "      <td>Birthday Party</td>\n",
       "      <td>customer4@example.com</td>\n",
       "      <td>0014913107</td>\n",
       "      <td>6</td>\n",
       "      <td>Unknown</td>\n",
       "      <td>203.20</td>\n",
       "    </tr>\n",
       "    <tr>\n",
       "      <th>4</th>\n",
       "      <td>6272b4e7-a508-4ed7-bae0-21f7293287a8</td>\n",
       "      <td>eb297435-93d1-4e65-8dd4-6450922305cb</td>\n",
       "      <td>Customer 5</td>\n",
       "      <td>Class</td>\n",
       "      <td>2025-04-13</td>\n",
       "      <td>PENDING</td>\n",
       "      <td>Art</td>\n",
       "      <td>Unknown</td>\n",
       "      <td>NaT</td>\n",
       "      <td>120.0</td>\n",
       "      <td>...</td>\n",
       "      <td>Play Area</td>\n",
       "      <td>NaN</td>\n",
       "      <td>NaN</td>\n",
       "      <td>Art</td>\n",
       "      <td>Class</td>\n",
       "      <td>customer5@example.com</td>\n",
       "      <td>0017183794</td>\n",
       "      <td>4</td>\n",
       "      <td>Unknown</td>\n",
       "      <td>161.14</td>\n",
       "    </tr>\n",
       "  </tbody>\n",
       "</table>\n",
       "<p>5 rows × 21 columns</p>\n",
       "</div>"
      ],
      "text/plain": [
       "                             Booking ID                           Customer ID  \\\n",
       "0  279d92c6-ce26-47c0-8915-e45b77fe20e2  00901ce3-3d86-4c97-bca2-40ccac2fb99f   \n",
       "1  415bfcbe-1a2e-4d4b-809a-4c5b606653b1  b82db986-bd52-4b07-bdd8-aa8cf2016241   \n",
       "2  2100024b-46fc-47b5-ac1c-047d007a4723  6bbb6e83-9577-4f64-80b0-f073132d18f3   \n",
       "3  74936def-088f-4d34-bad1-dfa76f78b704  f16f5beb-6a7d-4493-a19e-a30dbbd206e9   \n",
       "4  6272b4e7-a508-4ed7-bae0-21f7293287a8  eb297435-93d1-4e65-8dd4-6450922305cb   \n",
       "\n",
       "  Customer Name    Booking Type Booking Date     Status Class Type Instructor  \\\n",
       "0    Customer 1        Facility   2025-05-30    PENDING        NaN    Unknown   \n",
       "1    Customer 2  Birthday Party   2025-05-29    PENDING        NaN    Unknown   \n",
       "2    Customer 3  Birthday Party   2025-05-09  CONFIRMED        NaN    Unknown   \n",
       "3    Customer 4  Birthday Party   2025-06-07    PENDING        NaN    Unknown   \n",
       "4    Customer 5           Class   2025-04-13    PENDING        Art    Unknown   \n",
       "\n",
       "  Time Slot  Duration (mins)  ...    Facility      Theme Subscription Type  \\\n",
       "0       NaT             90.0  ...  Party Room        NaN               NaN   \n",
       "1       NaT             90.0  ...  Party Room  Superhero               NaN   \n",
       "2       NaT            120.0  ...   Play Area        NaN               NaN   \n",
       "3       NaT             90.0  ...   Play Area        NaN               NaN   \n",
       "4       NaT            120.0  ...   Play Area        NaN               NaN   \n",
       "\n",
       "   Service Name    Service Type         Customer Email Customer Phone  \\\n",
       "0    Party Room        Facility  customer1@example.com     0017309034   \n",
       "1    Party Room  Birthday Party  customer2@example.com     0015375668   \n",
       "2     Play Area        Facility  customer3@example.com     0018807769   \n",
       "3     Play Area  Birthday Party  customer4@example.com     0014913107   \n",
       "4           Art           Class  customer5@example.com     0017183794   \n",
       "\n",
       "  Booking Month  Peak Hours Revenue per Booking  \n",
       "0             5     Unknown               42.74  \n",
       "1             5     Unknown              182.06  \n",
       "2             5     Unknown              207.50  \n",
       "3             6     Unknown              203.20  \n",
       "4             4     Unknown              161.14  \n",
       "\n",
       "[5 rows x 21 columns]"
      ]
     },
     "execution_count": 9,
     "metadata": {},
     "output_type": "execute_result"
    }
   ],
   "source": [
    "import pandas as pd\n",
    "from datetime import time  # Importing time module to handle time-based operations\n",
    "\n",
    "# Convert \"Booking Date\" column to datetime format  \n",
    "# 'errors=\"coerce\"' ensures invalid dates are converted to NaT instead of causing errors\n",
    "df[\"Booking Date\"] = pd.to_datetime(df[\"Booking Date\"], errors='coerce')\n",
    "\n",
    "# Convert \"Time Slot\" column to datetime format and extract only the time component  \n",
    "# 'errors=\"coerce\"' ensures invalid time values are converted to NaT instead of causing errors  \n",
    "df[\"Time Slot\"] = pd.to_datetime(df[\"Time Slot\"], format=\"%H:%M\", errors='coerce').dt.time\n",
    "\n",
    "# Extract the month from the \"Booking Date\" column to create a \"Booking Month\" column  \n",
    "df[\"Booking Month\"] = df[\"Booking Date\"].dt.month\n",
    "\n",
    "# Function to categorize peak hours based on time slots  \n",
    "def categorize_peak_hours(t):\n",
    "    if pd.isna(t):  # Handling missing or invalid time values\n",
    "        return \"Unknown\"\n",
    "    if time(18, 0) <= t <= time(21, 0):  # Categorizing time slots between 18:00 - 21:00 as \"Peak\"\n",
    "        return \"Peak\"\n",
    "    return \"Off-Peak\"  # All other time slots are considered \"Off-Peak\"\n",
    "\n",
    "# Applying the peak hour categorization function to the \"Time Slot\" column  \n",
    "df[\"Peak Hours\"] = df[\"Time Slot\"].apply(categorize_peak_hours)\n",
    "\n",
    "# Convert \"Price\" column to a numeric format to calculate revenue per booking  \n",
    "# 'errors=\"coerce\"' ensures invalid values are converted to NaN instead of causing errors  \n",
    "df[\"Revenue per Booking\"] = pd.to_numeric(df[\"Price\"], errors='coerce')\n",
    "\n",
    "# Display the first few rows of the modified DataFrame to verify changes  \n",
    "df.head()"
   ]
  },
  {
   "cell_type": "markdown",
   "id": "f68e8bbc-6179-4304-8490-5f6eb0d642d8",
   "metadata": {},
   "source": [
    "## Exploratory Data Analysis"
   ]
  },
  {
   "cell_type": "code",
   "execution_count": 10,
   "id": "d4c5d05a-2f1c-4813-ace7-3161510f08af",
   "metadata": {},
   "outputs": [
    {
     "data": {
      "image/png": "[encoded data removed]",
      "text/plain": [
       "<Figure size 1000x500 with 1 Axes>"
      ]
     },
     "metadata": {},
     "output_type": "display_data"
    }
   ],
   "source": [
    "import seaborn as sns\n",
    "import matplotlib.pyplot as plt\n",
    "\n",
    "# Set the Seaborn style to \"whitegrid\" for better readability  \n",
    "sns.set_style(\"whitegrid\")\n",
    "\n",
    "# Create a figure with a specific size (width=10, height=5 inches)  \n",
    "plt.figure(figsize=(10, 5))\n",
    "\n",
    "# Create a count plot to visualize the frequency of each booking type  \n",
    "# 'order' ensures that booking types are sorted by their frequency in descending order  \n",
    "# 'palette=\"coolwarm\"' applies a visually appealing color scheme  \n",
    "sns.countplot(data=df, x=\"Booking Type\", order=df[\"Booking Type\"].value_counts().index, palette=\"coolwarm\")\n",
    "\n",
    "# Set the title of the plot  \n",
    "plt.title(\"Most Popular Booking Types\")\n",
    "\n",
    "# Rotate x-axis labels by 45 degrees for better readability  \n",
    "plt.xticks(rotation=45)\n",
    "\n",
    "# Display the plot  \n",
    "plt.show()"
   ]
  },
  {
   "cell_type": "markdown",
   "id": "799e98fa-1c7d-4265-b4e1-96378f76604b",
   "metadata": {},
   "source": [
    "## Time-series Analysis"
   ]
  },
  {
   "cell_type": "code",
   "execution_count": 11,
   "id": "96f8c7af-c3f9-46fb-95a6-2a7f44ec7150",
   "metadata": {},
   "outputs": [
    {
     "data": {
      "image/png": "[encoded data removed]",
      "text/plain": [
       "<Figure size 1200x600 with 1 Axes>"
      ]
     },
     "metadata": {},
     "output_type": "display_data"
    }
   ],
   "source": [
    "import matplotlib.pyplot as plt  \n",
    "\n",
    "# Create a figure with a specific size (width=12, height=6 inches)  \n",
    "plt.figure(figsize=(12, 6))  \n",
    "\n",
    "# Group the data by \"Booking Month\" and count the number of bookings  \n",
    "# \"Booking ID\" is used as a unique identifier for counting the number of bookings  \n",
    "df.groupby(\"Booking Month\")[\"Booking ID\"].count().plot(\n",
    "    kind='line', marker='o', color='b'  # Line plot with circular markers and blue color  \n",
    ")\n",
    "\n",
    "# Set the title of the plot  \n",
    "plt.title(\"Monthly Booking Trends\")\n",
    "\n",
    "# Label the x-axis as \"Month\"  \n",
    "plt.xlabel(\"Month\")\n",
    "\n",
    "# Label the y-axis as \"Number of Bookings\"  \n",
    "plt.ylabel(\"Number of Bookings\")\n",
    "\n",
    "# Display the plot  \n",
    "plt.show()"
   ]
  },
  {
   "cell_type": "markdown",
   "id": "609e0834-ea6a-4e8d-937a-d5be40589449",
   "metadata": {},
   "source": [
    "## Revenue Distribution by Service"
   ]
  },
  {
   "cell_type": "code",
   "execution_count": 12,
   "id": "d50b4f59-a393-4ac9-bfb1-375fa3d739fc",
   "metadata": {},
   "outputs": [
    {
     "data": {
      "image/png": "[encoded data removed]",
      "text/plain": [
       "<Figure size 1200x600 with 1 Axes>"
      ]
     },
     "metadata": {},
     "output_type": "display_data"
    }
   ],
   "source": [
    "import seaborn as sns\n",
    "import matplotlib.pyplot as plt\n",
    "\n",
    "# Create a figure with a specific size (width=12, height=6 inches)  \n",
    "plt.figure(figsize=(12, 6))\n",
    "\n",
    "# Create a box plot to visualize the distribution of \"Price\" for each \"Service Type\"  \n",
    "# Box plots help identify the spread, median, and potential outliers in the dataset  \n",
    "# 'palette=\"pastel\"' applies a soft color scheme for better visibility  \n",
    "sns.boxplot(data=df, x=\"Service Type\", y=\"Price\", palette=\"pastel\")\n",
    "\n",
    "# Rotate x-axis labels by 45 degrees for better readability  \n",
    "plt.xticks(rotation=45)\n",
    "\n",
    "# Set the title of the plot  \n",
    "plt.title(\"Revenue Distribution by Service Type\")\n",
    "\n",
    "# Display the plot  \n",
    "plt.show()"
   ]
  },
  {
   "cell_type": "markdown",
   "id": "0d21cf2c-830c-4977-ad8a-1475e041f112",
   "metadata": {},
   "source": [
    "## Saving Cleaned Booking Data"
   ]
  },
  {
   "cell_type": "code",
   "execution_count": 13,
   "id": "dfdf0b86-7c29-4a40-8df8-54d4dda88554",
   "metadata": {},
   "outputs": [
    {
     "name": "stdout",
     "output_type": "stream",
     "text": [
      "Data Cleaning and EDA Completd!\n"
     ]
    }
   ],
   "source": [
    "# Save the cleaned DataFrame to a CSV file  \r\n",
    "# 'index=False' ensures that the index is not saved in the output file  \r\n",
    "df.to_csv(\"cleaned_booking_data.csv\", index=False)\r\n",
    "\r\n",
    "# Print a confirmation message indicating that data cleaning and EDA are complete  \r\n",
    "print(\"Data Cleaning and EDA Completd!\")\r\n"
   ]
  },
  {
   "cell_type": "markdown",
   "id": "a238cb2c-4b71-4498-9eb0-1f179a636f41",
   "metadata": {},
   "source": [
    "## 1. Business Insights Extraction"
   ]
  },
  {
   "cell_type": "code",
   "execution_count": 14,
   "id": "4658e40c-efea-4a81-a93a-50517a253e04",
   "metadata": {},
   "outputs": [
    {
     "name": "stdout",
     "output_type": "stream",
     "text": [
      "Booking Type\n",
      "Facility          48769.17\n",
      "Class             45566.38\n",
      "Birthday Party    45141.66\n",
      "Name: Revenue per Booking, dtype: float64\n",
      "Facility\n",
      "Play Area     684\n",
      "Party Room    316\n",
      "Name: count, dtype: int64\n"
     ]
    }
   ],
   "source": [
    " # Grouping total revenue by \"Booking Type\" and sorting in descending order  \n",
    "# This helps identify which booking type generates the most revenue  \n",
    "booking_revenue = df.groupby(\"Booking Type\")[\"Revenue per Booking\"].sum().sort_values(ascending=False)\n",
    "\n",
    "# Display the revenue generated by each booking type  \n",
    "print(booking_revenue)\n",
    "\n",
    "# Counting the number of bookings per facility  \n",
    "# This helps analyze which facilities are used most frequently  \n",
    "facility_usage = df[\"Facility\"].value_counts()\n",
    "\n",
    "# Display the facility usage count  \n",
    "print(facility_usage)"
   ]
  },
  {
   "cell_type": "markdown",
   "id": "7db7079a-1ef0-4609-91bb-7526f6165035",
   "metadata": {},
   "source": [
    "## 2. Customer Segmentation"
   ]
  },
  {
   "cell_type": "code",
   "execution_count": 15,
   "id": "67cf1a5b-670c-4245-880b-3397f233feb4",
   "metadata": {},
   "outputs": [
    {
     "name": "stdout",
     "output_type": "stream",
     "text": [
      "                                      Total Spend  Total Bookings  Cluster\n",
      "Customer ID                                                               \n",
      "005c857c-bced-40b0-b29b-b394a06d17dc       185.46               1        0\n",
      "007c4181-3664-46a9-828b-09f2dd214716        83.96               1        0\n",
      "008658b8-c29e-480d-b281-1ef6c653e786       120.73               1        0\n",
      "00901ce3-3d86-4c97-bca2-40ccac2fb99f        42.74               1        1\n",
      "009ce218-e747-4541-a1d9-788aa6dc2dce       213.13               1        2\n"
     ]
    }
   ],
   "source": [
    "from sklearn.cluster import KMeans  \n",
    "\n",
    "# Aggregate customer data  \n",
    "# Summing total revenue spent by each customer  \n",
    "# Counting total bookings made by each customer  \n",
    "customer_data = df.groupby(\"Customer ID\").agg({\n",
    "    \"Revenue per Booking\": \"sum\",  # Total spend per customer  \n",
    "    \"Booking ID\": \"count\"  # Total number of bookings per customer  \n",
    "}).rename(columns={\"Revenue per Booking\": \"Total Spend\", \"Booking ID\": \"Total Bookings\"})\n",
    "\n",
    "# Applying K-Means clustering to segment customers into 3 groups based on spending & booking frequency  \n",
    "kmeans = KMeans(n_clusters=3, random_state=42)  # Setting number of clusters to 3 with a fixed random state for reproducibility  \n",
    "customer_data[\"Cluster\"] = kmeans.fit_predict(customer_data)  # Assigning each customer to a cluster  \n",
    "\n",
    "# Displaying the first few rows of the clustered customer data  \n",
    "print(customer_data.head())"
   ]
  },
  {
   "cell_type": "markdown",
   "id": "42f28c75-4685-4014-a785-f9ba00809904",
   "metadata": {},
   "source": [
    "## 3. Predict Future Bookings (Time Series Forecasting)"
   ]
  },
  {
   "cell_type": "code",
   "execution_count": 16,
   "id": "b5f9b49b-9ae4-438e-8684-059ab29bce00",
   "metadata": {},
   "outputs": [
    {
     "name": "stdout",
     "output_type": "stream",
     "text": [
      "2025-07-31    246.244654\n",
      "2025-08-31    221.935661\n",
      "2025-09-30    220.665965\n",
      "2025-10-31    221.081004\n",
      "2025-11-30    221.128515\n",
      "2025-12-31    221.122815\n",
      "Freq: M, Name: predicted_mean, dtype: float64\n"
     ]
    },
    {
     "name": "stderr",
     "output_type": "stream",
     "text": [
      "C:\\Users\\DELL\\AppData\\Local\\Programs\\Python\\Python311\\Lib\\site-packages\\statsmodels\\tsa\\statespace\\sarimax.py:866: UserWarning: Too few observations to estimate starting parameters for ARMA and trend. All parameters except for variances will be set to zeros.\n",
      "  warn('Too few observations to estimate starting parameters%s.'\n"
     ]
    }
   ],
   "source": [
    "from statsmodels.tsa.arima.model import ARIMA  \n",
    "\n",
    "# Convert \"Booking Date\" to datetime format to ensure proper time series processing  \n",
    "df[\"Booking Date\"] = pd.to_datetime(df[\"Booking Date\"])\n",
    "\n",
    "# Aggregate total bookings per month  \n",
    "# 'resample(\"M\")' groups data by month, using \"Booking Date\" as the time index  \n",
    "monthly_bookings = df.resample(\"M\", on=\"Booking Date\")[\"Booking ID\"].count()\n",
    "\n",
    "# Fit an ARIMA model to forecast future bookings  \n",
    "# order=(2,1,2) specifies the model parameters (p=2, d=1, q=2)  \n",
    "model = ARIMA(monthly_bookings, order=(2,1,2))  # ARIMA(p,d,q): Autoregressive(2), Differencing(1), Moving Average(2)  \n",
    "model_fit = model.fit()  # Train the model  \n",
    "\n",
    "# Forecast the number of bookings for the next 6 months  \n",
    "forecast = model_fit.forecast(steps=6)  # Predict 6 future time periods  \n",
    "print(forecast)  # Print the forecasted values"
   ]
  },
  {
   "cell_type": "markdown",
   "id": "b3b7ebb7-8afb-462b-a3a7-395e502ce413",
   "metadata": {},
   "source": [
    "## 4. Create Interactive Dashboards (Python Dash)"
   ]
  },
  {
   "cell_type": "code",
   "execution_count": 17,
   "id": "8cf7c5d5-69af-49d2-8b84-ceb76f625fe9",
   "metadata": {},
   "outputs": [
    {
     "name": "stdout",
     "output_type": "stream",
     "text": [
      "Requirement already satisfied: dash in c:\\users\\dell\\appdata\\local\\programs\\python\\python311\\lib\\site-packages (3.0.0)Note: you may need to restart the kernel to use updated packages.\n",
      "\n",
      "Requirement already satisfied: Flask<3.1,>=1.0.4 in c:\\users\\dell\\appdata\\local\\programs\\python\\python311\\lib\\site-packages (from dash) (3.0.3)\n",
      "Requirement already satisfied: Werkzeug<3.1 in c:\\users\\dell\\appdata\\local\\programs\\python\\python311\\lib\\site-packages (from dash) (3.0.6)\n",
      "Requirement already satisfied: plotly>=5.0.0 in c:\\users\\dell\\appdata\\local\\programs\\python\\python311\\lib\\site-packages (from dash) (6.0.0)\n",
      "Requirement already satisfied: importlib-metadata in c:\\users\\dell\\appdata\\local\\programs\\python\\python311\\lib\\site-packages (from dash) (8.6.1)\n",
      "Requirement already satisfied: typing-extensions>=4.1.1 in c:\\users\\dell\\appdata\\local\\programs\\python\\python311\\lib\\site-packages (from dash) (4.12.2)\n",
      "Requirement already satisfied: requests in c:\\users\\dell\\appdata\\local\\programs\\python\\python311\\lib\\site-packages (from dash) (2.31.0)\n",
      "Requirement already satisfied: retrying in c:\\users\\dell\\appdata\\local\\programs\\python\\python311\\lib\\site-packages (from dash) (1.3.4)\n",
      "Requirement already satisfied: nest-asyncio in c:\\users\\dell\\appdata\\local\\programs\\python\\python311\\lib\\site-packages (from dash) (1.5.8)\n",
      "Requirement already satisfied: setuptools in c:\\users\\dell\\appdata\\local\\programs\\python\\python311\\lib\\site-packages (from dash) (65.5.0)\n",
      "Requirement already satisfied: stringcase>=1.2.0 in c:\\users\\dell\\appdata\\local\\programs\\python\\python311\\lib\\site-packages (from dash) (1.2.0)\n",
      "Requirement already satisfied: Jinja2>=3.1.2 in c:\\users\\dell\\appdata\\local\\programs\\python\\python311\\lib\\site-packages (from Flask<3.1,>=1.0.4->dash) (3.1.2)\n",
      "Requirement already satisfied: itsdangerous>=2.1.2 in c:\\users\\dell\\appdata\\local\\programs\\python\\python311\\lib\\site-packages (from Flask<3.1,>=1.0.4->dash) (2.2.0)\n",
      "Requirement already satisfied: click>=8.1.3 in c:\\users\\dell\\appdata\\local\\programs\\python\\python311\\lib\\site-packages (from Flask<3.1,>=1.0.4->dash) (8.1.7)\n",
      "Requirement already satisfied: blinker>=1.6.2 in c:\\users\\dell\\appdata\\local\\programs\\python\\python311\\lib\\site-packages (from Flask<3.1,>=1.0.4->dash) (1.9.0)\n",
      "Requirement already satisfied: narwhals>=1.15.1 in c:\\users\\dell\\appdata\\local\\programs\\python\\python311\\lib\\site-packages (from plotly>=5.0.0->dash) (1.26.0)\n",
      "Requirement already satisfied: packaging in c:\\users\\dell\\appdata\\local\\programs\\python\\python311\\lib\\site-packages (from plotly>=5.0.0->dash) (23.2)\n",
      "Requirement already satisfied: MarkupSafe>=2.1.1 in c:\\users\\dell\\appdata\\local\\programs\\python\\python311\\lib\\site-packages (from Werkzeug<3.1->dash) (2.1.3)\n",
      "Requirement already satisfied: zipp>=3.20 in c:\\users\\dell\\appdata\\local\\programs\\python\\python311\\lib\\site-packages (from importlib-metadata->dash) (3.21.0)\n",
      "Requirement already satisfied: charset-normalizer<4,>=2 in c:\\users\\dell\\appdata\\local\\programs\\python\\python311\\lib\\site-packages (from requests->dash) (3.3.2)\n",
      "Requirement already satisfied: idna<4,>=2.5 in c:\\users\\dell\\appdata\\local\\programs\\python\\python311\\lib\\site-packages (from requests->dash) (3.6)\n",
      "Requirement already satisfied: urllib3<3,>=1.21.1 in c:\\users\\dell\\appdata\\local\\programs\\python\\python311\\lib\\site-packages (from requests->dash) (2.1.0)\n",
      "Requirement already satisfied: certifi>=2017.4.17 in c:\\users\\dell\\appdata\\local\\programs\\python\\python311\\lib\\site-packages (from requests->dash) (2023.11.17)\n",
      "Requirement already satisfied: six>=1.7.0 in c:\\users\\dell\\appdata\\local\\programs\\python\\python311\\lib\\site-packages (from retrying->dash) (1.16.0)\n",
      "Requirement already satisfied: colorama in c:\\users\\dell\\appdata\\local\\programs\\python\\python311\\lib\\site-packages (from click>=8.1.3->Flask<3.1,>=1.0.4->dash) (0.4.6)\n"
     ]
    }
   ],
   "source": [
    "pip install dash"
   ]
  },
  {
   "cell_type": "code",
   "execution_count": 17,
   "id": "528dceb0-1236-4dbc-a0eb-7312bdbdd88a",
   "metadata": {},
   "outputs": [
    {
     "data": {
      "text/html": [
       "\n",
       "        <iframe\n",
       "            width=\"100%\"\n",
       "            height=\"650\"\n",
       "            src=\"http://127.0.0.1:8050/\"\n",
       "            frameborder=\"0\"\n",
       "            allowfullscreen\n",
       "            \n",
       "        ></iframe>\n",
       "        "
      ],
      "text/plain": [
       "<IPython.lib.display.IFrame at 0x1f9ca20f750>"
      ]
     },
     "metadata": {},
     "output_type": "display_data"
    }
   ],
   "source": [
    "import dash  \n",
    "from dash import dcc, html  \n",
    "from dash.dependencies import Input, Output  \n",
    "import plotly.express as px  \n",
    "import pandas as pd  \n",
    "\n",
    "# Aggregate monthly revenue from booking data  \n",
    "monthly_revenue = df.resample(\"M\", on=\"Booking Date\")[\"Revenue per Booking\"].sum().reset_index()\n",
    "\n",
    "# Initialize Dash app  \n",
    "app = dash.Dash(__name__)  \n",
    "\n",
    "# Define the layout of the dashboard  \n",
    "app.layout = html.Div([\n",
    "    html.H1(\"Booking Revenue Dashboard\", style={'textAlign': 'center'}),  # Dashboard title  \n",
    "\n",
    "    # Dropdown menu to select a service type  \n",
    "    html.Label(\"Select Service Type:\"),  \n",
    "    dcc.Dropdown(\n",
    "        id=\"service-dropdown\",  \n",
    "        options=[{\"label\": service, \"value\": service} for service in df[\"Service Type\"].unique()],  # Dropdown options from unique service types  \n",
    "        value=df[\"Service Type\"].unique()[0],  # Default value as the first service type  \n",
    "        clearable=False  # Ensures a selection is always made  \n",
    "    ),  \n",
    "\n",
    "    # Placeholder for time-series revenue graph  \n",
    "    dcc.Graph(id=\"time-series-graph\"),  \n",
    "\n",
    "    # Placeholder for revenue distribution histogram  \n",
    "    dcc.Graph(id=\"revenue-distribution\"),  \n",
    "\n",
    "    # Static bar chart showing revenue by booking type  \n",
    "    dcc.Graph(id=\"booking-type-revenue\", figure=px.bar(df, x=\"Booking Type\", y=\"Revenue per Booking\", title=\"Revenue by Booking Type\"))\n",
    "])  \n",
    "\n",
    "# Callback to update the time-series graph based on selected service type  \n",
    "@app.callback(\n",
    "    Output(\"time-series-graph\", \"figure\"),  \n",
    "    Input(\"service-dropdown\", \"value\")  \n",
    ")  \n",
    "def update_time_series(selected_service):  \n",
    "    # Filter data for the selected service and aggregate revenue per month  \n",
    "    filtered_df = df[df[\"Service Type\"] == selected_service].resample(\"M\", on=\"Booking Date\")[\"Revenue per Booking\"].sum().reset_index()  \n",
    "    # Generate a line chart for revenue trend  \n",
    "    fig = px.line(filtered_df, x=\"Booking Date\", y=\"Revenue per Booking\", title=f\"Monthly Revenue for {selected_service}\")  \n",
    "    return fig  \n",
    "\n",
    "# Callback to update the revenue distribution histogram based on selected service type  \n",
    "@app.callback(\n",
    "    Output(\"revenue-distribution\", \"figure\"),  \n",
    "    Input(\"service-dropdown\", \"value\")  \n",
    ")  \n",
    "def update_revenue_distribution(selected_service):  \n",
    "    # Filter data for the selected service  \n",
    "    filtered_df = df[df[\"Service Type\"] == selected_service]  \n",
    "    # Generate a histogram showing revenue distribution  \n",
    "    fig = px.histogram(filtered_df, x=\"Revenue per Booking\", title=f\"Revenue Distribution for {selected_service}\", nbins=20)  \n",
    "    return fig  \n",
    "\n",
    "# Run the Dash app  \n",
    "if __name__ == \"__main__\":  \n",
    "    app.run(debug=True)"
   ]
  },
  {
   "cell_type": "markdown",
   "id": "1b366b09-a7b5-471f-a529-a2458a5a17bf",
   "metadata": {},
   "source": [
    "## 5. Automate Reporting"
   ]
  },
  {
   "cell_type": "code",
   "execution_count": 19,
   "id": "ca71f8d0-8fc2-4426-b816-f53401d04588",
   "metadata": {},
   "outputs": [
    {
     "name": "stdout",
     "output_type": "stream",
     "text": [
      "Requirement already satisfied: pydantic==1.10.13 in c:\\users\\dell\\appdata\\local\\programs\\python\\python311\\lib\\site-packages (1.10.13)Note: you may need to restart the kernel to use updated packages.\n",
      "\n",
      "Requirement already satisfied: pandas-profiling in c:\\users\\dell\\appdata\\local\\programs\\python\\python311\\lib\\site-packages (3.2.0)\n",
      "Requirement already satisfied: typing-extensions>=4.2.0 in c:\\users\\dell\\appdata\\local\\programs\\python\\python311\\lib\\site-packages (from pydantic==1.10.13) (4.12.2)\n",
      "Requirement already satisfied: joblib~=1.1.0 in c:\\users\\dell\\appdata\\local\\programs\\python\\python311\\lib\\site-packages (from pandas-profiling) (1.1.1)\n",
      "Requirement already satisfied: scipy>=1.4.1 in c:\\users\\dell\\appdata\\local\\programs\\python\\python311\\lib\\site-packages (from pandas-profiling) (1.11.4)\n",
      "Requirement already satisfied: pandas!=1.0.0,!=1.0.1,!=1.0.2,!=1.1.0,>=0.25.3 in c:\\users\\dell\\appdata\\local\\programs\\python\\python311\\lib\\site-packages (from pandas-profiling) (2.0.3)\n",
      "Requirement already satisfied: matplotlib>=3.2.0 in c:\\users\\dell\\appdata\\local\\programs\\python\\python311\\lib\\site-packages (from pandas-profiling) (3.7.3)\n",
      "Requirement already satisfied: PyYAML>=5.0.0 in c:\\users\\dell\\appdata\\local\\programs\\python\\python311\\lib\\site-packages (from pandas-profiling) (6.0.1)\n",
      "Requirement already satisfied: jinja2>=2.11.1 in c:\\users\\dell\\appdata\\local\\programs\\python\\python311\\lib\\site-packages (from pandas-profiling) (3.1.2)\n",
      "Requirement already satisfied: markupsafe~=2.1.1 in c:\\users\\dell\\appdata\\local\\programs\\python\\python311\\lib\\site-packages (from pandas-profiling) (2.1.3)\n",
      "Requirement already satisfied: visions==0.7.4 in c:\\users\\dell\\appdata\\local\\programs\\python\\python311\\lib\\site-packages (from visions[type_image_path]==0.7.4->pandas-profiling) (0.7.4)\n",
      "Requirement already satisfied: numpy>=1.16.0 in c:\\users\\dell\\appdata\\local\\programs\\python\\python311\\lib\\site-packages (from pandas-profiling) (1.25.2)\n",
      "Requirement already satisfied: htmlmin>=0.1.12 in c:\\users\\dell\\appdata\\local\\programs\\python\\python311\\lib\\site-packages (from pandas-profiling) (0.1.12)\n",
      "Requirement already satisfied: missingno>=0.4.2 in c:\\users\\dell\\appdata\\local\\programs\\python\\python311\\lib\\site-packages (from pandas-profiling) (0.5.2)\n",
      "Requirement already satisfied: phik>=0.11.1 in c:\\users\\dell\\appdata\\local\\programs\\python\\python311\\lib\\site-packages (from pandas-profiling) (0.12.3)\n",
      "Requirement already satisfied: tangled-up-in-unicode==0.2.0 in c:\\users\\dell\\appdata\\local\\programs\\python\\python311\\lib\\site-packages (from pandas-profiling) (0.2.0)\n",
      "Requirement already satisfied: requests>=2.24.0 in c:\\users\\dell\\appdata\\local\\programs\\python\\python311\\lib\\site-packages (from pandas-profiling) (2.31.0)\n",
      "Requirement already satisfied: tqdm>=4.48.2 in c:\\users\\dell\\appdata\\local\\programs\\python\\python311\\lib\\site-packages (from pandas-profiling) (4.66.1)\n",
      "Requirement already satisfied: seaborn>=0.10.1 in c:\\users\\dell\\appdata\\local\\programs\\python\\python311\\lib\\site-packages (from pandas-profiling) (0.12.2)\n",
      "Requirement already satisfied: multimethod>=1.4 in c:\\users\\dell\\appdata\\local\\programs\\python\\python311\\lib\\site-packages (from pandas-profiling) (1.10)\n",
      "Requirement already satisfied: attrs>=19.3.0 in c:\\users\\dell\\appdata\\local\\programs\\python\\python311\\lib\\site-packages (from visions==0.7.4->visions[type_image_path]==0.7.4->pandas-profiling) (23.1.0)\n",
      "Requirement already satisfied: networkx>=2.4 in c:\\users\\dell\\appdata\\local\\programs\\python\\python311\\lib\\site-packages (from visions==0.7.4->visions[type_image_path]==0.7.4->pandas-profiling) (3.2.1)\n",
      "Requirement already satisfied: imagehash in c:\\users\\dell\\appdata\\local\\programs\\python\\python311\\lib\\site-packages (from visions[type_image_path]==0.7.4->pandas-profiling) (4.3.1)\n",
      "Requirement already satisfied: Pillow in c:\\users\\dell\\appdata\\local\\programs\\python\\python311\\lib\\site-packages (from visions[type_image_path]==0.7.4->pandas-profiling) (10.1.0)\n",
      "Requirement already satisfied: contourpy>=1.0.1 in c:\\users\\dell\\appdata\\local\\programs\\python\\python311\\lib\\site-packages (from matplotlib>=3.2.0->pandas-profiling) (1.2.0)\n",
      "Requirement already satisfied: cycler>=0.10 in c:\\users\\dell\\appdata\\local\\programs\\python\\python311\\lib\\site-packages (from matplotlib>=3.2.0->pandas-profiling) (0.12.1)\n",
      "Requirement already satisfied: fonttools>=4.22.0 in c:\\users\\dell\\appdata\\local\\programs\\python\\python311\\lib\\site-packages (from matplotlib>=3.2.0->pandas-profiling) (4.47.0)\n",
      "Requirement already satisfied: kiwisolver>=1.0.1 in c:\\users\\dell\\appdata\\local\\programs\\python\\python311\\lib\\site-packages (from matplotlib>=3.2.0->pandas-profiling) (1.4.5)\n",
      "Requirement already satisfied: packaging>=20.0 in c:\\users\\dell\\appdata\\local\\programs\\python\\python311\\lib\\site-packages (from matplotlib>=3.2.0->pandas-profiling) (23.2)\n",
      "Requirement already satisfied: pyparsing>=2.3.1 in c:\\users\\dell\\appdata\\local\\programs\\python\\python311\\lib\\site-packages (from matplotlib>=3.2.0->pandas-profiling) (3.1.1)\n",
      "Requirement already satisfied: python-dateutil>=2.7 in c:\\users\\dell\\appdata\\local\\programs\\python\\python311\\lib\\site-packages (from matplotlib>=3.2.0->pandas-profiling) (2.8.2)\n",
      "Requirement already satisfied: pytz>=2020.1 in c:\\users\\dell\\appdata\\local\\programs\\python\\python311\\lib\\site-packages (from pandas!=1.0.0,!=1.0.1,!=1.0.2,!=1.1.0,>=0.25.3->pandas-profiling) (2023.3.post1)\n",
      "Requirement already satisfied: tzdata>=2022.1 in c:\\users\\dell\\appdata\\local\\programs\\python\\python311\\lib\\site-packages (from pandas!=1.0.0,!=1.0.1,!=1.0.2,!=1.1.0,>=0.25.3->pandas-profiling) (2023.3)\n",
      "Requirement already satisfied: charset-normalizer<4,>=2 in c:\\users\\dell\\appdata\\local\\programs\\python\\python311\\lib\\site-packages (from requests>=2.24.0->pandas-profiling) (3.3.2)\n",
      "Requirement already satisfied: idna<4,>=2.5 in c:\\users\\dell\\appdata\\local\\programs\\python\\python311\\lib\\site-packages (from requests>=2.24.0->pandas-profiling) (3.6)\n",
      "Requirement already satisfied: urllib3<3,>=1.21.1 in c:\\users\\dell\\appdata\\local\\programs\\python\\python311\\lib\\site-packages (from requests>=2.24.0->pandas-profiling) (2.1.0)\n",
      "Requirement already satisfied: certifi>=2017.4.17 in c:\\users\\dell\\appdata\\local\\programs\\python\\python311\\lib\\site-packages (from requests>=2.24.0->pandas-profiling) (2023.11.17)\n",
      "Requirement already satisfied: colorama in c:\\users\\dell\\appdata\\local\\programs\\python\\python311\\lib\\site-packages (from tqdm>=4.48.2->pandas-profiling) (0.4.6)\n",
      "Requirement already satisfied: six>=1.5 in c:\\users\\dell\\appdata\\local\\programs\\python\\python311\\lib\\site-packages (from python-dateutil>=2.7->matplotlib>=3.2.0->pandas-profiling) (1.16.0)\n",
      "Requirement already satisfied: PyWavelets in c:\\users\\dell\\appdata\\local\\programs\\python\\python311\\lib\\site-packages (from imagehash->visions[type_image_path]==0.7.4->pandas-profiling) (1.5.0)\n"
     ]
    }
   ],
   "source": [
    "pip install pydantic==1.10.13 pandas-profiling"
   ]
  },
  {
   "cell_type": "code",
   "execution_count": 20,
   "id": "55728924-d43c-4c32-b58c-b3bc826cf3a7",
   "metadata": {},
   "outputs": [
    {
     "name": "stdout",
     "output_type": "stream",
     "text": [
      "Requirement already satisfied: ydata-profiling in c:\\users\\dell\\appdata\\local\\programs\\python\\python311\\lib\\site-packages (4.6.0)\n",
      "Requirement already satisfied: pydantic==1.10.13 in c:\\users\\dell\\appdata\\local\\programs\\python\\python311\\lib\\site-packages (1.10.13)\n",
      "Requirement already satisfied: typing-extensions>=4.2.0 in c:\\users\\dell\\appdata\\local\\programs\\python\\python311\\lib\\site-packages (from pydantic==1.10.13) (4.12.2)\n",
      "Requirement already satisfied: scipy<1.12,>=1.4.1 in c:\\users\\dell\\appdata\\local\\programs\\python\\python311\\lib\\site-packages (from ydata-profiling) (1.11.4)\n",
      "Requirement already satisfied: pandas!=1.4.0,<2.1,>1.1 in c:\\users\\dell\\appdata\\local\\programs\\python\\python311\\lib\\site-packages (from ydata-profiling) (2.0.3)\n",
      "Requirement already satisfied: matplotlib<=3.7.3,>=3.2 in c:\\users\\dell\\appdata\\local\\programs\\python\\python311\\lib\\site-packages (from ydata-profiling) (3.7.3)\n",
      "Requirement already satisfied: PyYAML<6.1,>=5.0.0 in c:\\users\\dell\\appdata\\local\\programs\\python\\python311\\lib\\site-packages (from ydata-profiling) (6.0.1)\n",
      "Requirement already satisfied: jinja2<3.2,>=2.11.1 in c:\\users\\dell\\appdata\\local\\programs\\python\\python311\\lib\\site-packages (from ydata-profiling) (3.1.2)\n",
      "Collecting visions==0.7.5 (from visions[type_image_path]==0.7.5->ydata-profiling)\n",
      "  Using cached visions-0.7.5-py3-none-any.whl.metadata (6.3 kB)\n",
      "Requirement already satisfied: numpy<1.26,>=1.16.0 in c:\\users\\dell\\appdata\\local\\programs\\python\\python311\\lib\\site-packages (from ydata-profiling) (1.25.2)\n",
      "Requirement already satisfied: htmlmin==0.1.12 in c:\\users\\dell\\appdata\\local\\programs\\python\\python311\\lib\\site-packages (from ydata-profiling) (0.1.12)\n",
      "Requirement already satisfied: phik<0.13,>=0.11.1 in c:\\users\\dell\\appdata\\local\\programs\\python\\python311\\lib\\site-packages (from ydata-profiling) (0.12.3)\n",
      "Requirement already satisfied: requests<3,>=2.24.0 in c:\\users\\dell\\appdata\\local\\programs\\python\\python311\\lib\\site-packages (from ydata-profiling) (2.31.0)\n",
      "Requirement already satisfied: tqdm<5,>=4.48.2 in c:\\users\\dell\\appdata\\local\\programs\\python\\python311\\lib\\site-packages (from ydata-profiling) (4.66.1)\n",
      "Requirement already satisfied: seaborn<0.13,>=0.10.1 in c:\\users\\dell\\appdata\\local\\programs\\python\\python311\\lib\\site-packages (from ydata-profiling) (0.12.2)\n",
      "Requirement already satisfied: multimethod<2,>=1.4 in c:\\users\\dell\\appdata\\local\\programs\\python\\python311\\lib\\site-packages (from ydata-profiling) (1.10)\n",
      "Requirement already satisfied: statsmodels<1,>=0.13.2 in c:\\users\\dell\\appdata\\local\\programs\\python\\python311\\lib\\site-packages (from ydata-profiling) (0.14.4)\n",
      "Requirement already satisfied: typeguard<5,>=4.1.2 in c:\\users\\dell\\appdata\\local\\programs\\python\\python311\\lib\\site-packages (from ydata-profiling) (4.4.2)\n",
      "Requirement already satisfied: imagehash==4.3.1 in c:\\users\\dell\\appdata\\local\\programs\\python\\python311\\lib\\site-packages (from ydata-profiling) (4.3.1)\n",
      "Requirement already satisfied: wordcloud>=1.9.1 in c:\\users\\dell\\appdata\\local\\programs\\python\\python311\\lib\\site-packages (from ydata-profiling) (1.9.4)\n",
      "Requirement already satisfied: dacite>=1.8 in c:\\users\\dell\\appdata\\local\\programs\\python\\python311\\lib\\site-packages (from ydata-profiling) (1.9.2)\n",
      "Requirement already satisfied: numba<0.59.0,>=0.56.0 in c:\\users\\dell\\appdata\\local\\programs\\python\\python311\\lib\\site-packages (from ydata-profiling) (0.58.1)\n",
      "Requirement already satisfied: PyWavelets in c:\\users\\dell\\appdata\\local\\programs\\python\\python311\\lib\\site-packages (from imagehash==4.3.1->ydata-profiling) (1.5.0)\n",
      "Requirement already satisfied: pillow in c:\\users\\dell\\appdata\\local\\programs\\python\\python311\\lib\\site-packages (from imagehash==4.3.1->ydata-profiling) (10.1.0)\n",
      "Requirement already satisfied: attrs>=19.3.0 in c:\\users\\dell\\appdata\\local\\programs\\python\\python311\\lib\\site-packages (from visions==0.7.5->visions[type_image_path]==0.7.5->ydata-profiling) (23.1.0)\n",
      "Requirement already satisfied: networkx>=2.4 in c:\\users\\dell\\appdata\\local\\programs\\python\\python311\\lib\\site-packages (from visions==0.7.5->visions[type_image_path]==0.7.5->ydata-profiling) (3.2.1)\n",
      "Requirement already satisfied: tangled-up-in-unicode>=0.0.4 in c:\\users\\dell\\appdata\\local\\programs\\python\\python311\\lib\\site-packages (from visions==0.7.5->visions[type_image_path]==0.7.5->ydata-profiling) (0.2.0)\n",
      "Requirement already satisfied: MarkupSafe>=2.0 in c:\\users\\dell\\appdata\\local\\programs\\python\\python311\\lib\\site-packages (from jinja2<3.2,>=2.11.1->ydata-profiling) (2.1.3)\n",
      "Requirement already satisfied: contourpy>=1.0.1 in c:\\users\\dell\\appdata\\local\\programs\\python\\python311\\lib\\site-packages (from matplotlib<=3.7.3,>=3.2->ydata-profiling) (1.2.0)\n",
      "Requirement already satisfied: cycler>=0.10 in c:\\users\\dell\\appdata\\local\\programs\\python\\python311\\lib\\site-packages (from matplotlib<=3.7.3,>=3.2->ydata-profiling) (0.12.1)\n",
      "Requirement already satisfied: fonttools>=4.22.0 in c:\\users\\dell\\appdata\\local\\programs\\python\\python311\\lib\\site-packages (from matplotlib<=3.7.3,>=3.2->ydata-profiling) (4.47.0)\n",
      "Requirement already satisfied: kiwisolver>=1.0.1 in c:\\users\\dell\\appdata\\local\\programs\\python\\python311\\lib\\site-packages (from matplotlib<=3.7.3,>=3.2->ydata-profiling) (1.4.5)\n",
      "Requirement already satisfied: packaging>=20.0 in c:\\users\\dell\\appdata\\local\\programs\\python\\python311\\lib\\site-packages (from matplotlib<=3.7.3,>=3.2->ydata-profiling) (23.2)\n",
      "Requirement already satisfied: pyparsing>=2.3.1 in c:\\users\\dell\\appdata\\local\\programs\\python\\python311\\lib\\site-packages (from matplotlib<=3.7.3,>=3.2->ydata-profiling) (3.1.1)\n",
      "Requirement already satisfied: python-dateutil>=2.7 in c:\\users\\dell\\appdata\\local\\programs\\python\\python311\\lib\\site-packages (from matplotlib<=3.7.3,>=3.2->ydata-profiling) (2.8.2)\n",
      "Requirement already satisfied: llvmlite<0.42,>=0.41.0dev0 in c:\\users\\dell\\appdata\\local\\programs\\python\\python311\\lib\\site-packages (from numba<0.59.0,>=0.56.0->ydata-profiling) (0.41.1)\n",
      "Requirement already satisfied: pytz>=2020.1 in c:\\users\\dell\\appdata\\local\\programs\\python\\python311\\lib\\site-packages (from pandas!=1.4.0,<2.1,>1.1->ydata-profiling) (2023.3.post1)\n",
      "Requirement already satisfied: tzdata>=2022.1 in c:\\users\\dell\\appdata\\local\\programs\\python\\python311\\lib\\site-packages (from pandas!=1.4.0,<2.1,>1.1->ydata-profiling) (2023.3)\n",
      "Requirement already satisfied: joblib>=0.14.1 in c:\\users\\dell\\appdata\\local\\programs\\python\\python311\\lib\\site-packages (from phik<0.13,>=0.11.1->ydata-profiling) (1.1.1)\n",
      "Requirement already satisfied: charset-normalizer<4,>=2 in c:\\users\\dell\\appdata\\local\\programs\\python\\python311\\lib\\site-packages (from requests<3,>=2.24.0->ydata-profiling) (3.3.2)\n",
      "Requirement already satisfied: idna<4,>=2.5 in c:\\users\\dell\\appdata\\local\\programs\\python\\python311\\lib\\site-packages (from requests<3,>=2.24.0->ydata-profiling) (3.6)\n",
      "Requirement already satisfied: urllib3<3,>=1.21.1 in c:\\users\\dell\\appdata\\local\\programs\\python\\python311\\lib\\site-packages (from requests<3,>=2.24.0->ydata-profiling) (2.1.0)\n",
      "Requirement already satisfied: certifi>=2017.4.17 in c:\\users\\dell\\appdata\\local\\programs\\python\\python311\\lib\\site-packages (from requests<3,>=2.24.0->ydata-profiling) (2023.11.17)\n",
      "Requirement already satisfied: patsy>=0.5.6 in c:\\users\\dell\\appdata\\local\\programs\\python\\python311\\lib\\site-packages (from statsmodels<1,>=0.13.2->ydata-profiling) (1.0.1)\n",
      "Requirement already satisfied: colorama in c:\\users\\dell\\appdata\\local\\programs\\python\\python311\\lib\\site-packages (from tqdm<5,>=4.48.2->ydata-profiling) (0.4.6)\n",
      "Requirement already satisfied: six>=1.5 in c:\\users\\dell\\appdata\\local\\programs\\python\\python311\\lib\\site-packages (from python-dateutil>=2.7->matplotlib<=3.7.3,>=3.2->ydata-profiling) (1.16.0)\n",
      "Using cached visions-0.7.5-py3-none-any.whl (102 kB)\n",
      "Installing collected packages: visions\n",
      "  Attempting uninstall: visions\n",
      "    Found existing installation: visions 0.7.4\n",
      "    Uninstalling visions-0.7.4:\n",
      "      Successfully uninstalled visions-0.7.4\n",
      "Successfully installed visions-0.7.5\n",
      "Note: you may need to restart the kernel to use updated packages.\n"
     ]
    },
    {
     "name": "stderr",
     "output_type": "stream",
     "text": [
      "ERROR: pip's dependency resolver does not currently take into account all the packages that are installed. This behaviour is the source of the following dependency conflicts.\n",
      "pandas-profiling 3.2.0 requires visions[type_image_path]==0.7.4, but you have visions 0.7.5 which is incompatible.\n"
     ]
    }
   ],
   "source": [
    "pip install ydata-profiling pydantic==1.10.13"
   ]
  },
  {
   "cell_type": "code",
   "execution_count": 18,
   "id": "46e83a68-140e-4076-a82c-fc694208d5a3",
   "metadata": {},
   "outputs": [
    {
     "data": {
      "application/vnd.jupyter.widget-view+json": {
       "model_id": "c922bd0b13134104a3e96f4a39ba3e9d",
       "version_major": 2,
       "version_minor": 0
      },
      "text/plain": [
       "Summarize dataset:   0%|          | 0/5 [00:00<?, ?it/s]"
      ]
     },
     "metadata": {},
     "output_type": "display_data"
    },
    {
     "data": {
      "application/vnd.jupyter.widget-view+json": {
       "model_id": "8cdffae4805d42eca0431cee81ab55ad",
       "version_major": 2,
       "version_minor": 0
      },
      "text/plain": [
       "Generate report structure:   0%|          | 0/1 [00:00<?, ?it/s]"
      ]
     },
     "metadata": {},
     "output_type": "display_data"
    },
    {
     "data": {
      "application/vnd.jupyter.widget-view+json": {
       "model_id": "1b460492e73d4b7caa7b51cac653d10e",
       "version_major": 2,
       "version_minor": 0
      },
      "text/plain": [
       "Render HTML:   0%|          | 0/1 [00:00<?, ?it/s]"
      ]
     },
     "metadata": {},
     "output_type": "display_data"
    },
    {
     "data": {
      "application/vnd.jupyter.widget-view+json": {
       "model_id": "328bbde149204c5ba7472a74a38fd166",
       "version_major": 2,
       "version_minor": 0
      },
      "text/plain": [
       "Export report to file:   0%|          | 0/1 [00:00<?, ?it/s]"
      ]
     },
     "metadata": {},
     "output_type": "display_data"
    }
   ],
   "source": [
    "from ydata_profiling import ProfileReport  \n",
    "\n",
    "# Generate an automated EDA report for the dataset  \n",
    "profile = ProfileReport(df, title=\"Booking Data Report\", explorative=True)  \n",
    "\n",
    "# Save the report as an HTML file for easy viewing  \n",
    "profile.to_file(\"booking_report.html\")"
   ]
  },
  {
   "cell_type": "code",
   "execution_count": 22,
   "id": "f578f2d8-91f5-432e-ad55-09f98bae5b47",
   "metadata": {},
   "outputs": [
    {
     "data": {
      "text/plain": [
       "True"
      ]
     },
     "execution_count": 22,
     "metadata": {},
     "output_type": "execute_result"
    }
   ],
   "source": [
    "import webbrowser\n",
    "webbrowser.open(\"booking_report.html\")"
   ]
  }
 ],
 "metadata": {
  "kernelspec": {
   "display_name": "Python 3 (ipykernel)",
   "language": "python",
   "name": "python3"
  },
  "language_info": {
   "codemirror_mode": {
    "name": "ipython",
    "version": 3
   },
   "file_extension": ".py",
   "mimetype": "text/x-python",
   "name": "python",
   "nbconvert_exporter": "python",
   "pygments_lexer": "ipython3",
   "version": "3.11.7"
  }
 },
 "nbformat": 4,
 "nbformat_minor": 5
}
